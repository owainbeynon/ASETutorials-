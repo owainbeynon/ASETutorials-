{
 "cells": [
  {
   "cell_type": "markdown",
   "id": "9257b333-f327-4eba-9946-08f90b2b898e",
   "metadata": {
    "slideshow": {
     "slide_type": "slide"
    },
    "tags": []
   },
   "source": [
    "### The Atomic Simulation Environment "
   ]
  },
  {
   "cell_type": "markdown",
   "id": "6f3819f8-e027-4cb5-8d5e-0efb1022a88d",
   "metadata": {
    "slideshow": {
     "slide_type": "slide"
    }
   },
   "source": [
    "The Atomic Simulation Environment (ASE) is a community-driven Python package that mitigates the N2 problem of maintaining pairwise interfaces between codes by providing standard data structures – principally for atomic structures (the Atoms object) and calculation methods (the Calculator object) – as well as interfaces to ca. 100 file and ca. 30 simulation codes, acting as useful \"glue\" for work spanning multiple packages. A 2017 paper describing ASE has attracted over 500 citations every year for the past 5 years, demonstrating the broad adoption of ASE [1].\n",
    "\n",
    "[1]: 10.1088/1361-648X/aa680e"
   ]
  },
  {
   "cell_type": "markdown",
   "id": "8beada61-d2f5-4336-9d76-8b792509ea85",
   "metadata": {
    "slideshow": {
     "slide_type": "slide"
    }
   },
   "source": [
    "ASE integrates methods from ab-initio and classical molecular dynamics codes. In addition, it can manipulate structures and run calculations, providing a range of generic dynamics and geometry-optimisation routines with a toolkit for the further development of these methods. New high-level algorithms are written once and immediately available to users of established atomistic codes. ASE is increasingly used as a lingua Franca for MLIP fitting and evaluation: for example the GAP, ACE, MACE, CHGNET, M3GNET, ALIGNFF and NEQUIP codes all use ASE to name but few, and the OpenKIM knowledge base of interatomic models is strongly interfaced to ASE. The existence of ASE frees the developers of new packages to focus on novel aspects, making use of existing tools for structure manipulation and dynamics. "
   ]
  },
  {
   "cell_type": "markdown",
   "id": "d8b25109-f1a0-4642-ad92-5b1721cede1a",
   "metadata": {
    "slideshow": {
     "slide_type": "slide"
    },
    "tags": []
   },
   "source": [
    "As a Python package ASE is simple to install through pip (or conda) e.g: "
   ]
  },
  {
   "cell_type": "code",
   "execution_count": null,
   "id": "bc269f9f-4b5d-477c-82f5-d6be8e103c0b",
   "metadata": {
    "slideshow": {
     "slide_type": "slide"
    }
   },
   "outputs": [],
   "source": [
    "!pip install ase"
   ]
  },
  {
   "cell_type": "markdown",
   "id": "1b88c640-54dd-45e7-bfa1-684e322deec6",
   "metadata": {
    "slideshow": {
     "slide_type": "slide"
    }
   },
   "source": [
    "As a Python library ASE is part of a wider Python based materials modelling ecosystem"
   ]
  },
  {
   "cell_type": "markdown",
   "id": "9a35eff8-6312-4515-b716-18f98d692369",
   "metadata": {
    "slideshow": {
     "slide_type": "slide"
    }
   },
   "source": [
    "- **abTEM**: abTEM provides a Python API for running simulations of (scanning) transmission electron microscopy images and diffraction patterns.  \n",
    "- **ACAT**: ACAT is a Python package for atomistic modelling of metal or alloy heterogeneous catalysts. ACAT provides automatic identification of adsorption sites and adsorbate coverages for a wide range of surfaces and nanoparticles. It also includes tools for structure generation and global optimization of catalysts with and without adsorbates.  \n",
    "- **AGOX**: The Atomistic Global Optimization X package contains a collection of tools for global optimization of atomic systems. It supports algorithms like random structure search, basin-hopping, and machine-learning enhanced algorithms such as GOFEE. Any ASE calculator can be used as the objective function.  \n",
    "- **atomicrex**: A versatile tool for constructing interatomic potential models. Includes a Python interface for integration with first-principles codes via ASE and other libraries.  \n",
    "- **DockOnSurf**: Automatically finds the most stable geometry for molecules on surfaces using a two-step screening procedure combining different sites, anchoring points, conformers, orientations, and dissociation of acidic protons.  \n",
    "- **CHGNet**: A pretrained universal neural network potential for charge-informed atomistic modeling.  \n",
    "- **CLEASE**: CLuster Expansion in Atomic Simulation Environment automates setup and construction of cluster expansions (CE). Provides tools for generating training structures, fitting ECIs, and running Monte Carlo simulations.  \n",
    "- **COGEF**: COnstrained Geometries simulate External Force — useful for analyzing properties of bond-breaking reactions and the forces required to break chemical bonds.  \n",
    "- **DebyeCalculator**: Vectorised implementation of the Debye Scattering Equation (CPU & GPU) to calculate scattering intensity I(Q), structure functions, and pair distribution functions for simulating diffraction and scattering data of finite systems.  \n",
    "- **effmass**: Calculates various definitions of effective mass from the electronic band structure of semiconductors.  \n",
    "- **evgraf**: Python library for crystal reduction (finding primitive cells) and identification/symmetrization of structures with inversion pseudosymmetry.  \n",
    "- **FHI-vibes**: Calculates and analyzes vibrational properties of solids from first principles. Bridges between harmonic approximation and fully anharmonic MD simulations.  \n",
    "- **gpatom**: Provides tools for geometry optimization and related tasks in atomistic systems using machine learning surrogate models. Extends ASE.  \n",
    "- **hiphive**: Extracts high-order force constants efficiently. Interfaced with ASE and provides a calculator for MD sampling of force constant expansions.  \n",
    "- **icet**: Integration Cluster Expansion Toolkit — constructs and samples alloy cluster expansions with regression, validation, and Monte Carlo simulation capabilities.  \n",
    "- **matgl**: Graph deep learning library for materials.  \n",
    "- **matscipy**: Generic materials science toolbox built around ASE, including tools for plasticity, dislocations, fracture mechanics, electrochemistry, and more.  \n",
    "- **NequIP**: Euclidean equivariant neural network potentials for fitting and using neural network potentials in ASE or LAMMPS.  \n",
    "- **QuAcc**: A flexible, database-driven platform for high-throughput computational materials science and quantum chemistry workflows built around ASE.  \n",
    "- **RAFFLE**: Iterative local atomic descriptor-based interface prediction tool that identifies low-energy interface configurations.  \n",
    "- **SchNet Pack**: Deep neural networks for atomistic systems.  \n",
    "- **Sella**: Saddle point refinement and optimization tool using the Optimize API. Supports constrained saddle-point searches and intrinsic reaction coordinate (IRC) calculations.  \n",
    "- **texase**: Terminal User Interface (TUI) for ASE databases, allowing quick navigation and manipulation with keyboard shortcuts.  \n",
    "- **TorchANI**: Accurate neural network potential implementation built on PyTorch.  \n",
    "- **VRE Language**: Domain-specific language for atomic and molecular modeling with access to ASE Atoms, constraints, calculators, and algorithms through a Python interpreter.  \n",
    "- **Wulffpack**: Python package for constructing Wulff constructions — equilibrium shapes of nanoparticles — and generating models for continuum and atomistic simulations.  \n"
   ]
  },
  {
   "cell_type": "markdown",
   "id": "9c2d619d-7efc-4e3a-800c-08fa6639aa20",
   "metadata": {
    "slideshow": {
     "slide_type": "slide"
    }
   },
   "source": [
    "As a Python library ASE has several design principles: "
   ]
  },
  {
   "cell_type": "markdown",
   "id": "0aafd54a-724c-4576-bf99-ee3d295093ba",
   "metadata": {
    "slideshow": {
     "slide_type": "slide"
    }
   },
   "source": [
    "- **Easy to use**\n",
    "Setting up an atomistic total energy calculation or molecular dynamics simulation with ASE is simple and straightforward. ASE can be used via a graphical user interface, Command line tool and the Python language. Python scripts are easy to follow (see What is Python? for a short introduction). It is simple for new users to get access to all of the functionality of ASE."
   ]
  },
  {
   "cell_type": "markdown",
   "id": "14af7fd8-04f3-423e-ba92-3451e9df1e4d",
   "metadata": {
    "slideshow": {
     "slide_type": "slide"
    }
   },
   "source": [
    "- **Flexible:**\n",
    "Since ASE is based on the Python scripting language it is possible to perform very complicated simulation tasks without any code modifications. For example, a sequence of calculations may be performed with the use of simple “for-loop” constructions. There exist ASE modules for performing many standard simulation tasks."
   ]
  },
  {
   "cell_type": "markdown",
   "id": "e900a855-f857-48e9-a674-a5ab3579e8c1",
   "metadata": {
    "slideshow": {
     "slide_type": "slide"
    }
   },
   "source": [
    "- **Customizable:**\n",
    "The Python code in ASE is structured in modules intended for different purposes. There are ase.calculators for calculating energies, forces and stresses, ase.md and ase.optimize modules for controlling the motion of atoms, constraints objects and filters for performing nudged-elastic-band calculations etc. The modularity of the object-oriented code make it simple to contribute new functionality to ASE."
   ]
  },
  {
   "cell_type": "markdown",
   "id": "4baf68a1-90bc-4847-8f97-966ac4dd5fc2",
   "metadata": {
    "slideshow": {
     "slide_type": "slide"
    }
   },
   "source": [
    "- **Pythonic**\n",
    "It fits nicely into the rest of the Python world with use of the popular NumPy package for numerical work (see Numeric arrays in Python for a short introduction). The use of the Python language allows ASE to be used both interactively as well as in scripts."
   ]
  },
  {
   "cell_type": "markdown",
   "id": "7e2538c3-be35-43e4-b42c-115c02145ef5",
   "metadata": {
    "slideshow": {
     "slide_type": "slide"
    }
   },
   "source": [
    "- **Open to participation** \n",
    "The CAMPOS Atomic Simulation Environment is released under the GNU Lesser General Public License version 2.1 or any later version. See the files COPYING and COPYING.LESSER which accompany the downloaded files, or see the license at GNU’s web server at http://www.gnu.org/licenses/. Everybody is invited to participate in using and developing the code."
   ]
  },
  {
   "cell_type": "markdown",
   "id": "b1eaf5be-3eb2-478f-9cbe-c2a6f47d3ac0",
   "metadata": {
    "slideshow": {
     "slide_type": "slide"
    }
   },
   "source": [
    "ASE interfaces to many 'calcultors' - wrappers for external modelling code (MLIPs, DFT, MM). Here are some supported calculators: "
   ]
  },
  {
   "cell_type": "markdown",
   "id": "065e9df3-d669-4d44-aa51-a4993527727b",
   "metadata": {
    "slideshow": {
     "slide_type": "slide"
    }
   },
   "source": [
    "- **abTEM**: abTEM provides a Python API for running simulations of (scanning) transmission electron microscopy images and diffraction patterns.  \n",
    "- **ACAT**: ACAT is a Python package for atomistic modelling of metal or alloy heterogeneous catalysts. ACAT provides automatic identification of adsorption sites and adsorbate coverages for a wide range of surfaces and nanoparticles. It also includes tools for structure generation and global optimization of catalysts with and without adsorbates.  \n",
    "- **AGOX**: The Atomistic Global Optimization X package contains a collection of tools for global optimization of atomic systems. It supports algorithms like random structure search, basin-hopping, and machine-learning enhanced algorithms such as GOFEE. Any ASE calculator can be used as the objective function.  \n",
    "- **atomicrex**: A versatile tool for constructing interatomic potential models. Includes a Python interface for integration with first-principles codes via ASE and other libraries.  \n",
    "- **DockOnSurf**: Automatically finds the most stable geometry for molecules on surfaces using a two-step screening procedure combining different sites, anchoring points, conformers, orientations, and dissociation of acidic protons.  \n",
    "- **CHGNet**: A pretrained universal neural network potential for charge-informed atomistic modeling.  \n",
    "- **CLEASE**: CLuster Expansion in Atomic Simulation Environment automates setup and construction of cluster expansions (CE). Provides tools for generating training structures, fitting ECIs, and running Monte Carlo simulations.  \n",
    "- **COGEF**: COnstrained Geometries simulate External Force — useful for analyzing properties of bond-breaking reactions and the forces required to break chemical bonds.  \n",
    "- **DebyeCalculator**: Vectorised implementation of the Debye Scattering Equation (CPU & GPU) to calculate scattering intensity I(Q), structure functions, and pair distribution functions for simulating diffraction and scattering data of finite systems.  \n",
    "- **effmass**: Calculates various definitions of effective mass from the electronic band structure of semiconductors.  \n",
    "- **evgraf**: Python library for crystal reduction (finding primitive cells) and identification/symmetrization of structures with inversion pseudosymmetry.  \n",
    "- **FHI-vibes**: Calculates and analyzes vibrational properties of solids from first principles. Bridges between harmonic approximation and fully anharmonic MD simulations.  \n",
    "- **gpatom**: Provides tools for geometry optimization and related tasks in atomistic systems using machine learning surrogate models. Extends ASE.  \n",
    "- **hiphive**: Extracts high-order force constants efficiently. Interfaced with ASE and provides a calculator for MD sampling of force constant expansions.  \n",
    "- **icet**: Integration Cluster Expansion Toolkit — constructs and samples alloy cluster expansions with regression, validation, and Monte Carlo simulation capabilities.  \n",
    "- **matgl**: Graph deep learning library for materials.  \n",
    "- **matscipy**: Generic materials science toolbox built around ASE, including tools for plasticity, dislocations, fracture mechanics, electrochemistry, and more.  \n",
    "- **NequIP**: Euclidean equivariant neural network potentials for fitting and using neural network potentials in ASE or LAMMPS.  \n",
    "- **QuAcc**: A flexible, database-driven platform for high-throughput computational materials science and quantum chemistry workflows built around ASE.  \n",
    "- **RAFFLE**: Iterative local atomic descriptor-based interface prediction tool that identifies low-energy interface configurations.  \n",
    "- **SchNet Pack**: Deep neural networks for atomistic systems.  \n",
    "- **Sella**: Saddle point refinement and optimization tool using the Optimize API. Supports constrained saddle-point searches and intrinsic reaction coordinate (IRC) calculations.  \n",
    "- **texase**: Terminal User Interface (TUI) for ASE databases, allowing quick navigation and manipulation with keyboard shortcuts.  \n",
    "- **TorchANI**: Accurate neural network potential implementation built on PyTorch.  \n",
    "- **VRE Language**: Domain-specific language for atomic and molecular modeling with access to ASE Atoms, constraints, calculators, and algorithms through a Python interpreter.  \n",
    "- **Wulffpack**: Python package for constructing Wulff constructions — equilibrium shapes of nanoparticles — and generating models for continuum and atomistic simulations.  \n"
   ]
  },
  {
   "cell_type": "markdown",
   "id": "dd0339b0-a5ed-4f36-b274-f82f53b50f30",
   "metadata": {
    "slideshow": {
     "slide_type": "slide"
    }
   },
   "source": [
    "ASE has it's own drivers and algorithms for running claculations on molecules and materials as well as many postprocessing tools. A list of current modules is as follows:  "
   ]
  },
  {
   "cell_type": "markdown",
   "id": "a3944b53-29ab-4515-8d2b-b1442c38e690",
   "metadata": {
    "slideshow": {
     "slide_type": "slide"
    }
   },
   "source": [
    "- **ase.atoms** — Core module: represents atomic systems (the `Atoms` object) and related operations. :contentReference[oaicite:1]{index=1}  \n",
    "- **ase.build** — Tools for constructing atomic structures (e.g., bulk crystals, surfaces, molecules). :contentReference[oaicite:2]{index=2}  \n",
    "- **ase.cell** — Utilities for handling unit‐cells, converting between cell parameters and matrices, wrapping positions etc. :contentReference[oaicite:3]{index=3}  \n",
    "- **ase.calculators** — Interface module for calculators: linking external simulation codes or potentials with ASE. :contentReference[oaicite:4]{index=4}  \n",
    "- **ase.collections** — Databases of atomic “collections” (pre‐defined molecules or structures) and related utilities. :contentReference[oaicite:5]{index=5}  \n",
    "- **ase.constraints** — Tools for applying constraints to atoms (fixing positions, selective dynamics, etc.). :contentReference[oaicite:6]{index=6}  \n",
    "- **ase.db** — Database module: storing, querying, manipulating atomistic simulation results and metadata. :contentReference[oaicite:7]{index=7}  \n",
    "- **ase.dft** — Support for DFT‐related utilities (k-points, band structures, wannier functions etc.). :contentReference[oaicite:8]{index=8}  \n",
    "- **ase.io** — Input/output module: read/write atomic structures and trajectories in many formats. :contentReference[oaicite:9]{index=9}  \n",
    "- **ase.lattice** — Module for generating lattice types (e.g., fcc, bcc, hcp) and surface slabs. :contentReference[oaicite:10]{index=10}  \n",
    "- **ase.md** — Molecular dynamics: functions and classes for running MD simulations using ASE. :contentReference[oaicite:11]{index=11}  \n",
    "- **ase.optimize** — Structure optimization tools: relaxations, saddle‐point searches, etc. :contentReference[oaicite:12]{index=12}  \n",
    "- **ase.parallel** — Parallel computation utilities to help distribute ASE tasks over multiple cores/processes. :contentReference[oaicite:13]{index=13}  \n",
    "- **ase.phonons** — Tools for phonon calculations: supercell creation, dynamical matrix, vibrational modes. :contentReference[oaicite:14]{index=14}  \n",
    "- **ase.structure** — Utilities for manipulating and analyzing atomic structures: neighbours, geometry, etc. :contentReference[oaicite:15]{index=15}  \n",
    "- **ase.thermochemistry** — Tools for thermodynamic calculations: harmonic/hindered rotor, ideal‐gas limits etc. :contentReference[oaicite:16]{index=16}  \n",
    "- **ase.units** — Definitions and conversions of units used in ASE (eV, Å, K, etc.). :contentReference[oaicite:17]{index=17}  \n",
    "- **ase.transport** — (Where applicable) tools for transport properties (electron/phonon) modelling. :contentReference[oaicite:18]{index=18}  \n",
    "- **ase.visualize** — Visualization support: view atomic systems, trajectories, integrate with GUI or notebook viewers. :contentReference[oaicite:19]{index=19}  \n",
    "- **ase.utils** — Miscellaneous utilities: geometry helpers, formatting tools, timers etc. :contentReference[oaicite:20]{index=20}  \n"
   ]
  },
  {
   "cell_type": "markdown",
   "id": "3e9eadff-0d71-4e39-b975-a301939122a4",
   "metadata": {
    "slideshow": {
     "slide_type": "slide"
    }
   },
   "source": [
    "Let's have a look at an example of a simulation with ASE: "
   ]
  },
  {
   "cell_type": "code",
   "execution_count": 4,
   "id": "a1a72573-87cf-4c81-90cc-fff570fbde78",
   "metadata": {
    "slideshow": {
     "slide_type": "slide"
    }
   },
   "outputs": [
    {
     "name": "stdout",
     "output_type": "stream",
     "text": [
      "      Step     Time          Energy          fmax\n",
      "BFGS:    0 22:36:25        1.419426        9.802896\n",
      "BFGS:    1 22:36:25        2.139894        7.932239\n",
      "BFGS:    2 22:36:25        1.280719        4.990243\n",
      "BFGS:    3 22:36:25        2.298637       21.460333\n",
      "BFGS:    4 22:36:25        1.122419        2.768433\n",
      "BFGS:    5 22:36:25        1.081517        1.343938\n",
      "BFGS:    6 22:36:25        1.070848        0.236320\n",
      "BFGS:    7 22:36:25        1.070543        0.015684\n"
     ]
    },
    {
     "data": {
      "text/plain": [
       "True"
      ]
     },
     "execution_count": 4,
     "metadata": {},
     "output_type": "execute_result"
    }
   ],
   "source": [
    "# Example: structure optimization of hydrogen molecule\n",
    "from ase import Atoms\n",
    "from ase.optimize import BFGS\n",
    "from ase.calculators.emt import EMT\n",
    "from ase.io import write\n",
    "h2 = Atoms('H2',\n",
    "           positions=[[0, 0, 0],\n",
    "                      [0, 0, 0.7]])\n",
    "h2.calc = EMT()\n",
    "opt = BFGS(h2)\n",
    "opt.run(fmax=0.02)\n"
   ]
  },
  {
   "cell_type": "code",
   "execution_count": 5,
   "id": "974b79fa-fba1-466a-a25d-b8335aa25711",
   "metadata": {
    "slideshow": {
     "slide_type": "slide"
    }
   },
   "outputs": [
    {
     "data": {
      "text/plain": [
       "1.07054263354779"
      ]
     },
     "execution_count": 5,
     "metadata": {},
     "output_type": "execute_result"
    }
   ],
   "source": [
    "write('H2.xyz', h2)\n",
    "h2.get_potential_energy()"
   ]
  },
  {
   "cell_type": "markdown",
   "id": "f7a0d18a-43c2-4e4f-a4bd-665b26819644",
   "metadata": {
    "slideshow": {
     "slide_type": "slide"
    }
   },
   "source": [
    "Usefully ASE also has it's own GUI"
   ]
  },
  {
   "cell_type": "code",
   "execution_count": 9,
   "id": "448ac546-4646-4357-9594-98c5f7aeda05",
   "metadata": {
    "slideshow": {
     "slide_type": "slide"
    }
   },
   "outputs": [
    {
     "data": {
      "text/html": [
       "<html>\n",
       "    <head>\n",
       "        <title>ASE atomic visualization</title>\n",
       "        <link rel=\"stylesheet\" type=\"text/css\"             href=\"https://www.x3dom.org/release/x3dom.css\"></link>\n",
       "        <script type=\"text/javascript\"             src=\"https://www.x3dom.org/release/x3dom.js\"></script>\n",
       "    </head>\n",
       "    <body>\n",
       "        <X3D width=\"400px\"; height=\"300px\";>\n",
       "\n",
       "<!--Inserting Generated X3D Scene-->\n",
       "<scene>\n",
       "  <viewpoint position=\"0 0 1.5584419949219146\">\n",
       "    <group/>\n",
       "  </viewpoint>\n",
       "  <transform translation=\"-0.0 -0.0 -0.0\">\n",
       "    <group>\n",
       "      <group>\n",
       "        <transform translation=\"0 0 0\">\n",
       "          <shape>\n",
       "            <appearance>\n",
       "              <material diffuseColor=\"0 0 0\"/>\n",
       "            </appearance>\n",
       "            <lineset vertexCount=\"5\">\n",
       "              <coordinate point=\"0 0 0 0.0 0.0 0.0 0.0 0.0 0.0 0.0 0.0 0.0 0 0 0\"/>\n",
       "            </lineset>\n",
       "          </shape>\n",
       "        </transform>\n",
       "        <transform translation=\"0.0 0.0 0.0\">\n",
       "          <shape>\n",
       "            <appearance>\n",
       "              <material diffuseColor=\"0 0 0\"/>\n",
       "            </appearance>\n",
       "            <lineset vertexCount=\"5\">\n",
       "              <coordinate point=\"0 0 0 0.0 0.0 0.0 0.0 0.0 0.0 0.0 0.0 0.0 0 0 0\"/>\n",
       "            </lineset>\n",
       "          </shape>\n",
       "        </transform>\n",
       "        <transform translation=\"0 0 0\">\n",
       "          <shape>\n",
       "            <appearance>\n",
       "              <material diffuseColor=\"0 0 0\"/>\n",
       "            </appearance>\n",
       "            <lineset vertexCount=\"5\">\n",
       "              <coordinate point=\"0 0 0 0.0 0.0 0.0 0.0 0.0 0.0 0.0 0.0 0.0 0 0 0\"/>\n",
       "            </lineset>\n",
       "          </shape>\n",
       "        </transform>\n",
       "        <transform translation=\"0.0 0.0 0.0\">\n",
       "          <shape>\n",
       "            <appearance>\n",
       "              <material diffuseColor=\"0 0 0\"/>\n",
       "            </appearance>\n",
       "            <lineset vertexCount=\"5\">\n",
       "              <coordinate point=\"0 0 0 0.0 0.0 0.0 0.0 0.0 0.0 0.0 0.0 0.0 0 0 0\"/>\n",
       "            </lineset>\n",
       "          </shape>\n",
       "        </transform>\n",
       "      </group>\n",
       "      <group>\n",
       "        <transform translation=\"3.2845987130307702e-18 2.4248411949421282e-17 -0.03961049873047871\">\n",
       "          <shape>\n",
       "            <appearance>\n",
       "              <material diffuseColor=\"1.0 1.0 1.0\"/>\n",
       "            </appearance>\n",
       "            <sphere radius=\"0.31\"/>\n",
       "          </shape>\n",
       "        </transform>\n",
       "        <transform translation=\"1.3474192111833753e-17 2.3131175224908173e-18 0.7396104987304786\">\n",
       "          <shape>\n",
       "            <appearance>\n",
       "              <material diffuseColor=\"1.0 1.0 1.0\"/>\n",
       "            </appearance>\n",
       "            <sphere radius=\"0.31\"/>\n",
       "          </shape>\n",
       "        </transform>\n",
       "      </group>\n",
       "    </group>\n",
       "  </transform>\n",
       "</scene>\n",
       "<!--End of Inserted Scene-->\n",
       "\n",
       "        </X3D>\n",
       "    </body>\n",
       "</html>\n",
       "\n"
      ],
      "text/plain": [
       "<IPython.core.display.HTML object>"
      ]
     },
     "execution_count": 9,
     "metadata": {},
     "output_type": "execute_result"
    }
   ],
   "source": [
    "from ase.visualize import view\n",
    "view(h2, viewer='x3d')"
   ]
  },
  {
   "cell_type": "markdown",
   "id": "0ec76d3f-23fb-48f7-b276-c8886402e237",
   "metadata": {
    "slideshow": {
     "slide_type": "slide"
    }
   },
   "source": [
    "We can also now change our level of theory, to DFT (PBE)"
   ]
  },
  {
   "cell_type": "code",
   "execution_count": null,
   "id": "5696b2f1-cacf-43aa-9d63-1ea4a0f00ed1",
   "metadata": {
    "slideshow": {
     "slide_type": "slide"
    }
   },
   "outputs": [],
   "source": [
    "# Example: structure optimization of hydrogen molecule\n",
    "from ase import Atoms\n",
    "from ase.optimize import BFGS\n",
    "from ase.calculators.aims import Aims \n",
    "from ase.io import write\n",
    "h2 = Atoms('H2',\n",
    "           positions=[[0, 0, 0],\n",
    "                      [0, 0, 0.7]])\n",
    "h2.calc = Aims(xc='PBE',\n",
    "               spin='none', \n",
    "               relativistic = ('atomic_zora', 'scalar'),\n",
    "               sc_accuracy_etot=1e-2,\n",
    "               sc_accuracy_eev=1e-1,\n",
    "               sc_accuracy_rho=1e-2,\n",
    "               sc_accuracy_forces=1e-1,\n",
    "               \n",
    "opt = BFGS(h2)\n",
    "opt.run(fmax=0.02)\n",
    "write('H2.xyz', h2)\n",
    "h2.get_potential_energy()"
   ]
  },
  {
   "cell_type": "markdown",
   "id": "fb067bbd-4dd5-46f7-ad5b-88c867155f38",
   "metadata": {
    "slideshow": {
     "slide_type": "slide"
    }
   },
   "source": [
    "In the case of FHI-aims, ASE will create the relevant input and output files i.e such as geometry.in and control.in"
   ]
  },
  {
   "cell_type": "code",
   "execution_count": null,
   "id": "da7e141d-127f-459d-b92e-ea9568642f51",
   "metadata": {
    "slideshow": {
     "slide_type": "slide"
    }
   },
   "outputs": [],
   "source": [
    "#=======================================================\n",
    "# FHI-aims file: ./geometry.in\n",
    "# Created using the Atomic Simulation Environment (ASE)\n",
    "# Wed Mar 19 13:14:42 2025\n",
    "atom      0.00000000     0.00000000     0.00000000     H\n",
    "atom      0.00000000     0.00000000     0.70000000     H\n"
   ]
  },
  {
   "cell_type": "code",
   "execution_count": null,
   "id": "fe3fc00a-192a-429e-b6c0-d0d9d5e3fe61",
   "metadata": {
    "slideshow": {
     "slide_type": "slide"
    }
   },
   "outputs": [],
   "source": [
    "#===============================================================================\n",
    "# FHI-aims file: ./control.in\n",
    "# Created using the Atomic Simulation Environment (ASE)\n",
    "# Wed Mar 19 13:14:42 2025\n",
    "#===============================================================================\n",
    "\n",
    "# Exchange-correlation functional\n",
    "xc                   pbe\n",
    "\n",
    "# Spin treatment\n",
    "spin                 none\n",
    "\n",
    "# Relativistic treatment\n",
    "relativistic          atomic_zora scalar\n",
    "\n",
    "# Self-consistency convergence criteria\n",
    "sc_accuracy_etot      1E-2\n",
    "sc_accuracy_eev       1E-1\n",
    "sc_accuracy_rho       1E-2\n",
    "sc_accuracy_forces    1E-1\n",
    "\n",
    "#===============================================================================\n",
    "\n",
    "################################################################################\n",
    "#\n",
    "#  FHI-aims code project\n",
    "#  VB, Fritz-Haber Institut, 2009\n",
    "#\n",
    "#  Suggested \"light\" defaults for Ti atom (to be pasted into control.in file)\n",
    "#  Be sure to double-check any results obtained with these settings for post-processing,\n",
    "#  e.g., with the \"tight\" defaults and larger basis sets.\n",
    "#\n",
    "################################################################################\n",
    "  species        H\n",
    "#     global species definitions\n",
    "    nucleus             1\n",
    "    mass                1.00794\n",
    "#\n",
    "    l_hartree           4\n",
    "#\n",
    "    cut_pot             3.5  1.5  1.0\n",
    "    basis_dep_cutoff    1e-4\n",
    "#     \n",
    "    radial_base         24 5.0\n",
    "    radial_multiplier   1\n",
    "    angular_grids       specified\n",
    "      division   0.2421   50\n",
    "      division   0.3822  110\n",
    "      division   0.4799  194\n",
    "      division   0.5341  302\n",
    "#      division   0.5626  434\n",
    "#      division   0.5922  590\n",
    "#      division   0.6542  770\n",
    "#      division   0.6868 1202\n",
    "#      outer_grid  770\n",
    "      outer_grid  302\n",
    "################################################################################\n",
    "#\n",
    "#  Definition of \"minimal\" basis\n",
    "#\n",
    "################################################################################\n",
    "#     valence basis states\n",
    "    valence      1  s   1.\n",
    "#     ion occupancy\n",
    "    ion_occ      1  s   0.5\n",
    "################################################################################\n",
    "#\n",
    "#  Suggested additional basis functions. For production calculations, \n",
    "#  uncomment them one after another (the most important basis functions are\n",
    "#  listed first).\n",
    "#\n",
    "#  Basis constructed for dimers: 0.5 A, 0.7 A, 1.0 A, 1.5 A, 2.5 A\n",
    "#\n",
    "################################################################################\n",
    "#  \"First tier\" - improvements: -1014.90 meV to -62.69 meV\n",
    "     hydro 2 s 2.1\n",
    "     hydro 2 p 3.5\n"
   ]
  },
  {
   "cell_type": "code",
   "execution_count": 11,
   "id": "06c0b746-2268-4000-9489-0bdae7e5b15c",
   "metadata": {
    "slideshow": {
     "slide_type": "slide"
    }
   },
   "outputs": [],
   "source": [
    "from IPython.display import Image"
   ]
  },
  {
   "cell_type": "markdown",
   "id": "62635a90-7212-47b2-93e5-1e48ebc1ef93",
   "metadata": {
    "slideshow": {
     "slide_type": "slide"
    }
   },
   "source": [
    "![alt text](ase_aims.png)"
   ]
  },
  {
   "cell_type": "markdown",
   "id": "ba761c7f-26f1-46c4-9ba1-84a0872438e2",
   "metadata": {
    "slideshow": {
     "slide_type": "slide"
    }
   },
   "source": [
    "Thats the basics, happy computing!"
   ]
  },
  {
   "cell_type": "code",
   "execution_count": 1,
   "id": "5cbb0ee1-e2ba-4c49-bbdb-6988f17f2fb3",
   "metadata": {},
   "outputs": [
    {
     "name": "stdout",
     "output_type": "stream",
     "text": [
      "Requirement already satisfied: rise in /Users/k2481795/Documents/.venv1/lib/python3.9/site-packages (5.7.1)\n",
      "Requirement already satisfied: notebook>=6.0 in /Users/k2481795/Documents/.venv1/lib/python3.9/site-packages (from rise) (6.5.6)\n",
      "Requirement already satisfied: jinja2 in /Users/k2481795/Documents/.venv1/lib/python3.9/site-packages (from notebook>=6.0->rise) (3.1.6)\n",
      "Requirement already satisfied: tornado>=6.1 in /Users/k2481795/Documents/.venv1/lib/python3.9/site-packages (from notebook>=6.0->rise) (6.4.2)\n",
      "Requirement already satisfied: pyzmq<25,>=17 in /Users/k2481795/Documents/.venv1/lib/python3.9/site-packages (from notebook>=6.0->rise) (24.0.1)\n",
      "Requirement already satisfied: argon2-cffi in /Users/k2481795/Documents/.venv1/lib/python3.9/site-packages (from notebook>=6.0->rise) (23.1.0)\n",
      "Requirement already satisfied: traitlets>=4.2.1 in /Users/k2481795/Documents/.venv1/lib/python3.9/site-packages (from notebook>=6.0->rise) (5.14.3)\n",
      "Requirement already satisfied: jupyter-core>=4.6.1 in /Users/k2481795/Documents/.venv1/lib/python3.9/site-packages (from notebook>=6.0->rise) (5.7.2)\n",
      "Requirement already satisfied: jupyter-client<8,>=5.3.4 in /Users/k2481795/Documents/.venv1/lib/python3.9/site-packages (from notebook>=6.0->rise) (7.4.9)\n",
      "Requirement already satisfied: ipython-genutils in /Users/k2481795/Documents/.venv1/lib/python3.9/site-packages (from notebook>=6.0->rise) (0.2.0)\n",
      "Requirement already satisfied: nbformat in /Users/k2481795/Documents/.venv1/lib/python3.9/site-packages (from notebook>=6.0->rise) (5.10.4)\n",
      "Requirement already satisfied: nbconvert>=5 in /Users/k2481795/Documents/.venv1/lib/python3.9/site-packages (from notebook>=6.0->rise) (7.16.6)\n",
      "Requirement already satisfied: nest-asyncio>=1.5 in /Users/k2481795/Documents/.venv1/lib/python3.9/site-packages (from notebook>=6.0->rise) (1.6.0)\n",
      "Requirement already satisfied: ipykernel in /Users/k2481795/Documents/.venv1/lib/python3.9/site-packages (from notebook>=6.0->rise) (6.29.5)\n",
      "Requirement already satisfied: Send2Trash>=1.8.0 in /Users/k2481795/Documents/.venv1/lib/python3.9/site-packages (from notebook>=6.0->rise) (1.8.3)\n",
      "Requirement already satisfied: terminado>=0.8.3 in /Users/k2481795/Documents/.venv1/lib/python3.9/site-packages (from notebook>=6.0->rise) (0.18.1)\n",
      "Requirement already satisfied: prometheus-client in /Users/k2481795/Documents/.venv1/lib/python3.9/site-packages (from notebook>=6.0->rise) (0.21.1)\n",
      "Requirement already satisfied: nbclassic>=0.4.7 in /Users/k2481795/Documents/.venv1/lib/python3.9/site-packages (from notebook>=6.0->rise) (1.3.3)\n",
      "Requirement already satisfied: entrypoints in /Users/k2481795/Documents/.venv1/lib/python3.9/site-packages (from jupyter-client<8,>=5.3.4->notebook>=6.0->rise) (0.4)\n",
      "Requirement already satisfied: python-dateutil>=2.8.2 in /Users/k2481795/Documents/.venv1/lib/python3.9/site-packages (from jupyter-client<8,>=5.3.4->notebook>=6.0->rise) (2.9.0.post0)\n",
      "Requirement already satisfied: platformdirs>=2.5 in /Users/k2481795/Documents/.venv1/lib/python3.9/site-packages (from jupyter-core>=4.6.1->notebook>=6.0->rise) (4.3.8)\n",
      "Requirement already satisfied: notebook-shim>=0.2.3 in /Users/k2481795/Documents/.venv1/lib/python3.9/site-packages (from nbclassic>=0.4.7->notebook>=6.0->rise) (0.2.4)\n",
      "Requirement already satisfied: beautifulsoup4 in /Users/k2481795/Documents/.venv1/lib/python3.9/site-packages (from nbconvert>=5->notebook>=6.0->rise) (4.13.4)\n",
      "Requirement already satisfied: bleach!=5.0.0 in /Users/k2481795/Documents/.venv1/lib/python3.9/site-packages (from bleach[css]!=5.0.0->nbconvert>=5->notebook>=6.0->rise) (6.2.0)\n",
      "Requirement already satisfied: defusedxml in /Users/k2481795/Documents/.venv1/lib/python3.9/site-packages (from nbconvert>=5->notebook>=6.0->rise) (0.7.1)\n",
      "Requirement already satisfied: importlib-metadata>=3.6 in /Users/k2481795/Documents/.venv1/lib/python3.9/site-packages (from nbconvert>=5->notebook>=6.0->rise) (8.7.0)\n",
      "Requirement already satisfied: jupyterlab-pygments in /Users/k2481795/Documents/.venv1/lib/python3.9/site-packages (from nbconvert>=5->notebook>=6.0->rise) (0.3.0)\n",
      "Requirement already satisfied: markupsafe>=2.0 in /Users/k2481795/Documents/.venv1/lib/python3.9/site-packages (from nbconvert>=5->notebook>=6.0->rise) (3.0.2)\n",
      "Requirement already satisfied: mistune<4,>=2.0.3 in /Users/k2481795/Documents/.venv1/lib/python3.9/site-packages (from nbconvert>=5->notebook>=6.0->rise) (3.1.3)\n",
      "Requirement already satisfied: nbclient>=0.5.0 in /Users/k2481795/Documents/.venv1/lib/python3.9/site-packages (from nbconvert>=5->notebook>=6.0->rise) (0.10.2)\n",
      "Requirement already satisfied: packaging in /Users/k2481795/Documents/.venv1/lib/python3.9/site-packages (from nbconvert>=5->notebook>=6.0->rise) (25.0)\n",
      "Requirement already satisfied: pandocfilters>=1.4.1 in /Users/k2481795/Documents/.venv1/lib/python3.9/site-packages (from nbconvert>=5->notebook>=6.0->rise) (1.5.1)\n",
      "Requirement already satisfied: pygments>=2.4.1 in /Users/k2481795/Documents/.venv1/lib/python3.9/site-packages (from nbconvert>=5->notebook>=6.0->rise) (2.19.1)\n",
      "Requirement already satisfied: fastjsonschema>=2.15 in /Users/k2481795/Documents/.venv1/lib/python3.9/site-packages (from nbformat->notebook>=6.0->rise) (2.21.1)\n",
      "Requirement already satisfied: jsonschema>=2.6 in /Users/k2481795/Documents/.venv1/lib/python3.9/site-packages (from nbformat->notebook>=6.0->rise) (4.23.0)\n",
      "Requirement already satisfied: ptyprocess in /Users/k2481795/Documents/.venv1/lib/python3.9/site-packages (from terminado>=0.8.3->notebook>=6.0->rise) (0.7.0)\n",
      "Requirement already satisfied: argon2-cffi-bindings in /Users/k2481795/Documents/.venv1/lib/python3.9/site-packages (from argon2-cffi->notebook>=6.0->rise) (21.2.0)\n",
      "Requirement already satisfied: appnope in /Users/k2481795/Documents/.venv1/lib/python3.9/site-packages (from ipykernel->notebook>=6.0->rise) (0.1.4)\n",
      "Requirement already satisfied: comm>=0.1.1 in /Users/k2481795/Documents/.venv1/lib/python3.9/site-packages (from ipykernel->notebook>=6.0->rise) (0.2.2)\n",
      "Requirement already satisfied: debugpy>=1.6.5 in /Users/k2481795/Documents/.venv1/lib/python3.9/site-packages (from ipykernel->notebook>=6.0->rise) (1.8.14)\n",
      "Requirement already satisfied: ipython>=7.23.1 in /Users/k2481795/Documents/.venv1/lib/python3.9/site-packages (from ipykernel->notebook>=6.0->rise) (8.18.1)\n",
      "Requirement already satisfied: matplotlib-inline>=0.1 in /Users/k2481795/Documents/.venv1/lib/python3.9/site-packages (from ipykernel->notebook>=6.0->rise) (0.1.7)\n",
      "Requirement already satisfied: psutil in /Users/k2481795/Documents/.venv1/lib/python3.9/site-packages (from ipykernel->notebook>=6.0->rise) (7.0.0)\n",
      "Requirement already satisfied: webencodings in /Users/k2481795/Documents/.venv1/lib/python3.9/site-packages (from bleach!=5.0.0->bleach[css]!=5.0.0->nbconvert>=5->notebook>=6.0->rise) (0.5.1)\n",
      "Requirement already satisfied: tinycss2<1.5,>=1.1.0 in /Users/k2481795/Documents/.venv1/lib/python3.9/site-packages (from bleach[css]!=5.0.0->nbconvert>=5->notebook>=6.0->rise) (1.4.0)\n",
      "Requirement already satisfied: zipp>=3.20 in /Users/k2481795/Documents/.venv1/lib/python3.9/site-packages (from importlib-metadata>=3.6->nbconvert>=5->notebook>=6.0->rise) (3.21.0)\n",
      "Requirement already satisfied: decorator in /Users/k2481795/Documents/.venv1/lib/python3.9/site-packages (from ipython>=7.23.1->ipykernel->notebook>=6.0->rise) (5.2.1)\n",
      "Requirement already satisfied: jedi>=0.16 in /Users/k2481795/Documents/.venv1/lib/python3.9/site-packages (from ipython>=7.23.1->ipykernel->notebook>=6.0->rise) (0.19.2)\n",
      "Requirement already satisfied: prompt-toolkit<3.1.0,>=3.0.41 in /Users/k2481795/Documents/.venv1/lib/python3.9/site-packages (from ipython>=7.23.1->ipykernel->notebook>=6.0->rise) (3.0.51)\n",
      "Requirement already satisfied: stack-data in /Users/k2481795/Documents/.venv1/lib/python3.9/site-packages (from ipython>=7.23.1->ipykernel->notebook>=6.0->rise) (0.6.3)\n",
      "Requirement already satisfied: typing-extensions in /Users/k2481795/Documents/.venv1/lib/python3.9/site-packages (from ipython>=7.23.1->ipykernel->notebook>=6.0->rise) (4.13.2)\n",
      "Requirement already satisfied: exceptiongroup in /Users/k2481795/Documents/.venv1/lib/python3.9/site-packages (from ipython>=7.23.1->ipykernel->notebook>=6.0->rise) (1.2.2)\n",
      "Requirement already satisfied: pexpect>4.3 in /Users/k2481795/Documents/.venv1/lib/python3.9/site-packages (from ipython>=7.23.1->ipykernel->notebook>=6.0->rise) (4.9.0)\n",
      "Requirement already satisfied: attrs>=22.2.0 in /Users/k2481795/Documents/.venv1/lib/python3.9/site-packages (from jsonschema>=2.6->nbformat->notebook>=6.0->rise) (25.3.0)\n",
      "Requirement already satisfied: jsonschema-specifications>=2023.03.6 in /Users/k2481795/Documents/.venv1/lib/python3.9/site-packages (from jsonschema>=2.6->nbformat->notebook>=6.0->rise) (2025.4.1)\n",
      "Requirement already satisfied: referencing>=0.28.4 in /Users/k2481795/Documents/.venv1/lib/python3.9/site-packages (from jsonschema>=2.6->nbformat->notebook>=6.0->rise) (0.36.2)\n",
      "Requirement already satisfied: rpds-py>=0.7.1 in /Users/k2481795/Documents/.venv1/lib/python3.9/site-packages (from jsonschema>=2.6->nbformat->notebook>=6.0->rise) (0.24.0)\n",
      "Requirement already satisfied: jupyter-server<3,>=1.8 in /Users/k2481795/Documents/.venv1/lib/python3.9/site-packages (from notebook-shim>=0.2.3->nbclassic>=0.4.7->notebook>=6.0->rise) (2.15.0)\n",
      "Requirement already satisfied: six>=1.5 in /Users/k2481795/Documents/.venv1/lib/python3.9/site-packages (from python-dateutil>=2.8.2->jupyter-client<8,>=5.3.4->notebook>=6.0->rise) (1.17.0)\n",
      "Requirement already satisfied: cffi>=1.0.1 in /Users/k2481795/Documents/.venv1/lib/python3.9/site-packages (from argon2-cffi-bindings->argon2-cffi->notebook>=6.0->rise) (1.17.1)\n",
      "Requirement already satisfied: soupsieve>1.2 in /Users/k2481795/Documents/.venv1/lib/python3.9/site-packages (from beautifulsoup4->nbconvert>=5->notebook>=6.0->rise) (2.7)\n",
      "Requirement already satisfied: pycparser in /Users/k2481795/Documents/.venv1/lib/python3.9/site-packages (from cffi>=1.0.1->argon2-cffi-bindings->argon2-cffi->notebook>=6.0->rise) (2.22)\n"
     ]
    },
    {
     "name": "stdout",
     "output_type": "stream",
     "text": [
      "Requirement already satisfied: parso<0.9.0,>=0.8.4 in /Users/k2481795/Documents/.venv1/lib/python3.9/site-packages (from jedi>=0.16->ipython>=7.23.1->ipykernel->notebook>=6.0->rise) (0.8.4)\n",
      "Requirement already satisfied: anyio>=3.1.0 in /Users/k2481795/Documents/.venv1/lib/python3.9/site-packages (from jupyter-server<3,>=1.8->notebook-shim>=0.2.3->nbclassic>=0.4.7->notebook>=6.0->rise) (4.9.0)\n",
      "Requirement already satisfied: jupyter-events>=0.11.0 in /Users/k2481795/Documents/.venv1/lib/python3.9/site-packages (from jupyter-server<3,>=1.8->notebook-shim>=0.2.3->nbclassic>=0.4.7->notebook>=6.0->rise) (0.12.0)\n",
      "Requirement already satisfied: jupyter-server-terminals>=0.4.4 in /Users/k2481795/Documents/.venv1/lib/python3.9/site-packages (from jupyter-server<3,>=1.8->notebook-shim>=0.2.3->nbclassic>=0.4.7->notebook>=6.0->rise) (0.5.3)\n",
      "Requirement already satisfied: overrides>=5.0 in /Users/k2481795/Documents/.venv1/lib/python3.9/site-packages (from jupyter-server<3,>=1.8->notebook-shim>=0.2.3->nbclassic>=0.4.7->notebook>=6.0->rise) (7.7.0)\n",
      "Requirement already satisfied: websocket-client>=1.7 in /Users/k2481795/Documents/.venv1/lib/python3.9/site-packages (from jupyter-server<3,>=1.8->notebook-shim>=0.2.3->nbclassic>=0.4.7->notebook>=6.0->rise) (1.8.0)\n",
      "Requirement already satisfied: wcwidth in /Users/k2481795/Documents/.venv1/lib/python3.9/site-packages (from prompt-toolkit<3.1.0,>=3.0.41->ipython>=7.23.1->ipykernel->notebook>=6.0->rise) (0.2.13)\n",
      "Requirement already satisfied: executing>=1.2.0 in /Users/k2481795/Documents/.venv1/lib/python3.9/site-packages (from stack-data->ipython>=7.23.1->ipykernel->notebook>=6.0->rise) (2.2.0)\n",
      "Requirement already satisfied: asttokens>=2.1.0 in /Users/k2481795/Documents/.venv1/lib/python3.9/site-packages (from stack-data->ipython>=7.23.1->ipykernel->notebook>=6.0->rise) (3.0.0)\n",
      "Requirement already satisfied: pure-eval in /Users/k2481795/Documents/.venv1/lib/python3.9/site-packages (from stack-data->ipython>=7.23.1->ipykernel->notebook>=6.0->rise) (0.2.3)\n",
      "Requirement already satisfied: idna>=2.8 in /Users/k2481795/Documents/.venv1/lib/python3.9/site-packages (from anyio>=3.1.0->jupyter-server<3,>=1.8->notebook-shim>=0.2.3->nbclassic>=0.4.7->notebook>=6.0->rise) (3.10)\n",
      "Requirement already satisfied: sniffio>=1.1 in /Users/k2481795/Documents/.venv1/lib/python3.9/site-packages (from anyio>=3.1.0->jupyter-server<3,>=1.8->notebook-shim>=0.2.3->nbclassic>=0.4.7->notebook>=6.0->rise) (1.3.1)\n",
      "Requirement already satisfied: python-json-logger>=2.0.4 in /Users/k2481795/Documents/.venv1/lib/python3.9/site-packages (from jupyter-events>=0.11.0->jupyter-server<3,>=1.8->notebook-shim>=0.2.3->nbclassic>=0.4.7->notebook>=6.0->rise) (3.3.0)\n",
      "Requirement already satisfied: pyyaml>=5.3 in /Users/k2481795/Documents/.venv1/lib/python3.9/site-packages (from jupyter-events>=0.11.0->jupyter-server<3,>=1.8->notebook-shim>=0.2.3->nbclassic>=0.4.7->notebook>=6.0->rise) (6.0.2)\n",
      "Requirement already satisfied: rfc3339-validator in /Users/k2481795/Documents/.venv1/lib/python3.9/site-packages (from jupyter-events>=0.11.0->jupyter-server<3,>=1.8->notebook-shim>=0.2.3->nbclassic>=0.4.7->notebook>=6.0->rise) (0.1.4)\n",
      "Requirement already satisfied: rfc3986-validator>=0.1.1 in /Users/k2481795/Documents/.venv1/lib/python3.9/site-packages (from jupyter-events>=0.11.0->jupyter-server<3,>=1.8->notebook-shim>=0.2.3->nbclassic>=0.4.7->notebook>=6.0->rise) (0.1.1)\n",
      "Requirement already satisfied: fqdn in /Users/k2481795/Documents/.venv1/lib/python3.9/site-packages (from jsonschema[format-nongpl]>=4.18.0->jupyter-events>=0.11.0->jupyter-server<3,>=1.8->notebook-shim>=0.2.3->nbclassic>=0.4.7->notebook>=6.0->rise) (1.5.1)\n",
      "Requirement already satisfied: isoduration in /Users/k2481795/Documents/.venv1/lib/python3.9/site-packages (from jsonschema[format-nongpl]>=4.18.0->jupyter-events>=0.11.0->jupyter-server<3,>=1.8->notebook-shim>=0.2.3->nbclassic>=0.4.7->notebook>=6.0->rise) (20.11.0)\n",
      "Requirement already satisfied: jsonpointer>1.13 in /Users/k2481795/Documents/.venv1/lib/python3.9/site-packages (from jsonschema[format-nongpl]>=4.18.0->jupyter-events>=0.11.0->jupyter-server<3,>=1.8->notebook-shim>=0.2.3->nbclassic>=0.4.7->notebook>=6.0->rise) (3.0.0)\n",
      "Requirement already satisfied: uri-template in /Users/k2481795/Documents/.venv1/lib/python3.9/site-packages (from jsonschema[format-nongpl]>=4.18.0->jupyter-events>=0.11.0->jupyter-server<3,>=1.8->notebook-shim>=0.2.3->nbclassic>=0.4.7->notebook>=6.0->rise) (1.3.0)\n",
      "Requirement already satisfied: webcolors>=24.6.0 in /Users/k2481795/Documents/.venv1/lib/python3.9/site-packages (from jsonschema[format-nongpl]>=4.18.0->jupyter-events>=0.11.0->jupyter-server<3,>=1.8->notebook-shim>=0.2.3->nbclassic>=0.4.7->notebook>=6.0->rise) (24.11.1)\n",
      "Requirement already satisfied: arrow>=0.15.0 in /Users/k2481795/Documents/.venv1/lib/python3.9/site-packages (from isoduration->jsonschema[format-nongpl]>=4.18.0->jupyter-events>=0.11.0->jupyter-server<3,>=1.8->notebook-shim>=0.2.3->nbclassic>=0.4.7->notebook>=6.0->rise) (1.3.0)\n",
      "Requirement already satisfied: types-python-dateutil>=2.8.10 in /Users/k2481795/Documents/.venv1/lib/python3.9/site-packages (from arrow>=0.15.0->isoduration->jsonschema[format-nongpl]>=4.18.0->jupyter-events>=0.11.0->jupyter-server<3,>=1.8->notebook-shim>=0.2.3->nbclassic>=0.4.7->notebook>=6.0->rise) (2.9.0.20241206)\n",
      "\n",
      "\u001b[1m[\u001b[0m\u001b[34;49mnotice\u001b[0m\u001b[1;39;49m]\u001b[0m\u001b[39;49m A new release of pip is available: \u001b[0m\u001b[31;49m24.3.1\u001b[0m\u001b[39;49m -> \u001b[0m\u001b[32;49m25.3\u001b[0m\n",
      "\u001b[1m[\u001b[0m\u001b[34;49mnotice\u001b[0m\u001b[1;39;49m]\u001b[0m\u001b[39;49m To update, run: \u001b[0m\u001b[32;49mpip install --upgrade pip\u001b[0m\n"
     ]
    }
   ],
   "source": [
    "!pip install rise"
   ]
  },
  {
   "cell_type": "code",
   "execution_count": null,
   "id": "a3f32c16",
   "metadata": {},
   "outputs": [],
   "source": []
  }
 ],
 "metadata": {
  "celltoolbar": "Slideshow",
  "kernelspec": {
   "display_name": "Python 3 (ipykernel)",
   "language": "python",
   "name": "python3"
  },
  "language_info": {
   "codemirror_mode": {
    "name": "ipython",
    "version": 3
   },
   "file_extension": ".py",
   "mimetype": "text/x-python",
   "name": "python",
   "nbconvert_exporter": "python",
   "pygments_lexer": "ipython3",
   "version": "3.9.6"
  }
 },
 "nbformat": 4,
 "nbformat_minor": 5
}
